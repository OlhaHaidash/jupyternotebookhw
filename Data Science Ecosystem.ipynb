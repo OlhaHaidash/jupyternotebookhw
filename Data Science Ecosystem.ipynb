{
 "cells": [
  {
   "cell_type": "markdown",
   "id": "74f85309-c5f7-49f8-8fd4-d908b681036c",
   "metadata": {},
   "source": [
    "# Data Science Tools and Ecosystem"
   ]
  },
  {
   "cell_type": "markdown",
   "id": "ee7e53a0-07cb-4740-b687-4655639c07c6",
   "metadata": {},
   "source": [
    "In this notebook, Data Science Tools and Ecosystem are summarized."
   ]
  },
  {
   "cell_type": "markdown",
   "id": "b147dbc2-f78f-40af-a797-c63670874741",
   "metadata": {},
   "source": [
    "Some of the popular languages that Data Scientists use are:\n",
    "1. Python\n",
    "2. Julia\n",
    "3. R\n",
    "4. SQL\n",
    "5. Java"
   ]
  },
  {
   "cell_type": "markdown",
   "id": "18a25651-55e2-4344-9b9e-93c73eb485f0",
   "metadata": {},
   "source": [
    "**Objectives:**\n",
    "- List popular languages for Data Science\n",
    "- List commonly used libraries used by Data Scientists\n",
    "- Make a table of Data Science tools\n",
    "- Introduce arithmetic expression examples\n",
    "- Convert minutes to hours"
   ]
  },
  {
   "cell_type": "markdown",
   "id": "f1f1a248-3054-47c3-8e26-1680d543541c",
   "metadata": {},
   "source": [
    "Some of the commonly used libraries used by Data Scientists include:\n",
    "1. Pandas\n",
    "2. NumPy\n",
    "3. SciPy\n",
    "4. Apache Spark\n",
    "5. Scala"
   ]
  },
  {
   "cell_type": "markdown",
   "id": "d77b9bb7-3ffe-4b10-8064-224e54736e97",
   "metadata": {},
   "source": [
    "| Data Science Tools |\n",
    "| --------- |\n",
    "| Jupyter Notebook |\n",
    "| Spider |\n",
    "| RStudio |"
   ]
  },
  {
   "cell_type": "markdown",
   "id": "c8e965f5-fcd0-467a-90e7-48180e581c25",
   "metadata": {},
   "source": [
    "### Below are a few examples of evaluating arithmetic expressions in Python\n",
    "- addition: 2+2=4\n",
    "- subtraction: 5-3=2\n",
    "- multiplication: 2*2=4\n",
    "- division: 6/3=2\n",
    "- exponentiation: 2**3=8"
   ]
  },
  {
   "cell_type": "code",
   "execution_count": 4,
   "id": "46646395-626d-45a4-8a27-195e74c2db76",
   "metadata": {
    "tags": []
   },
   "outputs": [
    {
     "data": {
      "text/plain": [
       "17"
      ]
     },
     "execution_count": 4,
     "metadata": {},
     "output_type": "execute_result"
    }
   ],
   "source": [
    "# This a simple arithmetic expression to mutiply then add integers.\n",
    "(3*4)+5"
   ]
  },
  {
   "cell_type": "code",
   "execution_count": 5,
   "id": "f5397896-c604-4ed3-93d4-7eee405ec012",
   "metadata": {
    "tags": []
   },
   "outputs": [
    {
     "data": {
      "text/plain": [
       "3.3333333333333335"
      ]
     },
     "execution_count": 5,
     "metadata": {},
     "output_type": "execute_result"
    }
   ],
   "source": [
    "#This will convert 200 minutes to hours by diving by 60\n",
    "minutes = 200\n",
    "hours = minutes / 60\n",
    "hours"
   ]
  },
  {
   "cell_type": "markdown",
   "id": "b5bb9517-312c-49d1-bd7c-ed75044b01fc",
   "metadata": {},
   "source": [
    "## Author\n",
    "Olha"
   ]
  }
 ],
 "metadata": {
  "kernelspec": {
   "display_name": "Python",
   "language": "python",
   "name": "conda-env-python-py"
  },
  "language_info": {
   "codemirror_mode": {
    "name": "ipython",
    "version": 3
   },
   "file_extension": ".py",
   "mimetype": "text/x-python",
   "name": "python",
   "nbconvert_exporter": "python",
   "pygments_lexer": "ipython3",
   "version": "3.7.12"
  }
 },
 "nbformat": 4,
 "nbformat_minor": 5
}
